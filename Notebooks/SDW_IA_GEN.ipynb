{
  "nbformat": 4,
  "nbformat_minor": 0,
  "metadata": {
    "colab": {
      "provenance": []
    },
    "kernelspec": {
      "name": "python3",
      "display_name": "Python 3"
    },
    "language_info": {
      "name": "python"
    }
  },
  "cells": [
    {
      "cell_type": "markdown",
      "source": [
        "# Extract"
      ],
      "metadata": {
        "id": "McWv_wsjJU8E"
      }
    },
    {
      "cell_type": "markdown",
      "source": [
        "## Instalar e importar as dependências"
      ],
      "metadata": {
        "id": "IJAGfsCSb78R"
      }
    },
    {
      "cell_type": "code",
      "source": [
        "!pip install openai==0.28"
      ],
      "metadata": {
        "id": "R9NYmVnkOB1L"
      },
      "execution_count": null,
      "outputs": []
    },
    {
      "cell_type": "code",
      "execution_count": null,
      "metadata": {
        "id": "bIFHiNM5ErK_"
      },
      "outputs": [],
      "source": [
        "import pandas as pd\n",
        "import requests\n",
        "import json\n",
        "import openai\n",
        "from transformers import pipeline"
      ]
    },
    {
      "cell_type": "markdown",
      "source": [
        "## Extrair e salvar os ids e informações dos usuários"
      ],
      "metadata": {
        "id": "Xw-8_W-ocFbw"
      }
    },
    {
      "cell_type": "code",
      "source": [
        "# Armazena em uma lista os ids dos usuários\n",
        "df = pd.read_csv('/content/usuarios.csv')\n",
        "user_ids = df['UserID'].tolist()\n",
        "print(user_ids)"
      ],
      "metadata": {
        "colab": {
          "base_uri": "https://localhost:8080/"
        },
        "id": "LkBwA5eaJdUi",
        "outputId": "0594541d-f2f8-41f5-8e74-8da09761459d"
      },
      "execution_count": null,
      "outputs": [
        {
          "output_type": "stream",
          "name": "stdout",
          "text": [
            "[1, 2, 3]\n"
          ]
        }
      ]
    },
    {
      "cell_type": "code",
      "source": [
        "# Armazena em uma lista as informações de cada usuário\n",
        "def get_user(id):\n",
        "  with open('/content/SDW2023.json', 'r') as file:\n",
        "        data = json.load(file)\n",
        "        # Procura o usuário pelo ID\n",
        "        user = next((user for user in data if user['id'] == id), None)\n",
        "        return user\n",
        "\n",
        "users = [user for id in user_ids if (user := get_user(id)) is not None]\n",
        "print(json.dumps(users, indent=2))"
      ],
      "metadata": {
        "id": "65Z9BDw-J5Wj"
      },
      "execution_count": null,
      "outputs": []
    },
    {
      "cell_type": "markdown",
      "source": [
        "# Transform"
      ],
      "metadata": {
        "id": "3Ksc2XqYORHZ"
      }
    },
    {
      "cell_type": "code",
      "source": [
        "openai_api_key = '************************'\n",
        "# OBS: api key foi removida ao final do projeto."
      ],
      "metadata": {
        "id": "Ytx9Yk30M5a-"
      },
      "execution_count": null,
      "outputs": []
    },
    {
      "cell_type": "code",
      "source": [
        "openai.api_key = openai_api_key\n",
        "\n",
        "# Função responsável por gerar uma mensagem para cada usuário\n",
        "# com a ajuda do \"chat gpt\"\n",
        "def generate_ai_news(user):\n",
        "  completion = openai.ChatCompletion.create(\n",
        "      model='gpt-4',\n",
        "      messages=[\n",
        "          {\n",
        "              \"role\": \"system\",\n",
        "              \"content\": \"Você é um especialista em markting bancário\"\n",
        "          },\n",
        "          {\n",
        "              \"role\": \"user\",\n",
        "              \"content\": f\"Crie uma mensagem para {user['name']} sobre a importância dos investimentos (máximo de 100 caracteres)\"\n",
        "          }\n",
        "      ]\n",
        "  )\n",
        "  return completion.choices[0].message.content.strip('\\\"')\n",
        "\n",
        "# Armazena no arquivo json a mensagem gera para cada usuário\n",
        "for user in users:\n",
        "  news = generate_ai_news(user)\n",
        "  print(news)\n",
        "\n",
        "with open('seu_arquivo.json', 'r') as file:\n",
        "    users = json.load(file)\n",
        "\n",
        "for user in users:\n",
        "    message = generate_ai_news(user)\n",
        "    user['message'] = message\n",
        "\n",
        "with open('seu_arquivo_atualizado.json', 'w') as file:\n",
        "    json.dump(users, file, indent=4)\n",
        "\n",
        "print(\"Arquivo JSON atualizado com sucesso!\")"
      ],
      "metadata": {
        "id": "ZY2GSu1qb32g"
      },
      "execution_count": null,
      "outputs": []
    }
  ]
}